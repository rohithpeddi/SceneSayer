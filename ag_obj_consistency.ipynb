{
 "cells": [
  {
   "metadata": {
    "ExecuteTime": {
     "end_time": "2024-05-13T01:39:40.100472Z",
     "start_time": "2024-05-13T01:39:40.086426Z"
    }
   },
   "cell_type": "code",
   "source": [
    "import os\n",
    "import pickle\n",
    "\n",
    "import numpy as np\n",
    "import torch\n",
    "from torch.utils.data import Dataset, DataLoader\n",
    "from tqdm import tqdm\n",
    "\n",
    "from constants import Constants as const\n",
    "from dataloader.supervised.generation.action_genome.ag_dataset import cuda_collate_fn"
   ],
   "id": "56b507a57cd6147d",
   "outputs": [],
   "execution_count": 109
  },
  {
   "metadata": {
    "ExecuteTime": {
     "end_time": "2024-05-13T01:39:43.759830Z",
     "start_time": "2024-05-13T01:39:43.678075Z"
    }
   },
   "cell_type": "code",
   "source": [
    "class AGDataset(Dataset):\n",
    "    def __init__(\n",
    "            self,\n",
    "            phase,\n",
    "            datasize,\n",
    "            data_path=None,\n",
    "            filter_nonperson_box_frame=True,\n",
    "            filter_small_box=False\n",
    "    ):\n",
    "\n",
    "        root_path = data_path\n",
    "        self.frames_path = os.path.join(root_path, const.FRAMES)\n",
    "\n",
    "        # collect the object classes\n",
    "        self.object_classes = [const.BACKGROUND]\n",
    "\n",
    "        with open(os.path.join(root_path, const.ANNOTATIONS, const.OBJECT_CLASSES_FILE), 'r',\n",
    "                  encoding='utf-8') as f:\n",
    "            for line in f.readlines():\n",
    "                line = line.strip('\\n')\n",
    "                self.object_classes.append(line)\n",
    "        f.close()\n",
    "        self.object_classes[9] = 'closet/cabinet'\n",
    "        self.object_classes[11] = 'cup/glass/bottle'\n",
    "        self.object_classes[23] = 'paper/notebook'\n",
    "        self.object_classes[24] = 'phone/camera'\n",
    "        self.object_classes[31] = 'sofa/couch'\n",
    "\n",
    "        # collect relationship classes\n",
    "        self.relationship_classes = []\n",
    "        with open(os.path.join(root_path, const.ANNOTATIONS, const.RELATIONSHIP_CLASSES_FILE), 'r') as f:\n",
    "            for line in f.readlines():\n",
    "                line = line.strip('\\n')\n",
    "                self.relationship_classes.append(line)\n",
    "        f.close()\n",
    "        self.relationship_classes[0] = 'looking_at'\n",
    "        self.relationship_classes[1] = 'not_looking_at'\n",
    "        self.relationship_classes[5] = 'in_front_of'\n",
    "        self.relationship_classes[7] = 'on_the_side_of'\n",
    "        self.relationship_classes[10] = 'covered_by'\n",
    "        self.relationship_classes[11] = 'drinking_from'\n",
    "        self.relationship_classes[13] = 'have_it_on_the_back'\n",
    "        self.relationship_classes[15] = 'leaning_on'\n",
    "        self.relationship_classes[16] = 'lying_on'\n",
    "        self.relationship_classes[17] = 'not_contacting'\n",
    "        self.relationship_classes[18] = 'other_relationship'\n",
    "        self.relationship_classes[19] = 'sitting_on'\n",
    "        self.relationship_classes[20] = 'standing_on'\n",
    "        self.relationship_classes[25] = 'writing_on'\n",
    "\n",
    "        self.attention_relationships = self.relationship_classes[0:3]\n",
    "        self.spatial_relationships = self.relationship_classes[3:9]\n",
    "        self.contacting_relationships = self.relationship_classes[9:]\n",
    "\n",
    "        print('-------loading annotations---------slowly-----------')\n",
    "\n",
    "        annotations_path = os.path.join(root_path, const.ANNOTATIONS)\n",
    "        if filter_small_box:\n",
    "            with open(os.path.join(annotations_path, const.PERSON_BOUNDING_BOX_PKL), 'rb') as f:\n",
    "                person_bbox = pickle.load(f)\n",
    "            f.close()\n",
    "            with open('dataloader/object_bbox_and_relationship_filtersmall.pkl', 'rb') as f:\n",
    "                object_bbox = pickle.load(f)\n",
    "        else:\n",
    "            with open(os.path.join(annotations_path, const.PERSON_BOUNDING_BOX_PKL), 'rb') as f:\n",
    "                person_bbox = pickle.load(f)\n",
    "            f.close()\n",
    "            with open(os.path.join(annotations_path, const.OBJECT_BOUNDING_BOX_RELATIONSHIP_PKL), 'rb') as f:\n",
    "                object_bbox = pickle.load(f)\n",
    "            f.close()\n",
    "        print('--------------------finish!-------------------------')\n",
    "\n",
    "        if datasize == const.MINI:\n",
    "            small_person = {}\n",
    "            small_object = {}\n",
    "            for i in list(person_bbox.keys())[:80000]:\n",
    "                small_person[i] = person_bbox[i]\n",
    "                small_object[i] = object_bbox[i]\n",
    "            person_bbox = small_person\n",
    "            object_bbox = small_object\n",
    "\n",
    "        # collect valid frames\n",
    "        video_dict = {}\n",
    "        q = []\n",
    "        for i in person_bbox.keys():\n",
    "            if object_bbox[i][0][const.METADATA][const.SET] == phase:  # train or testing?\n",
    "                video_name, frame_num = i.split('/')\n",
    "                q.append(video_name)\n",
    "                frame_valid = False\n",
    "                for j in object_bbox[i]:  # the frame is valid if there is visible bbox\n",
    "                    if j[const.VISIBLE]:\n",
    "                        frame_valid = True\n",
    "                if frame_valid:\n",
    "                    video_name, frame_num = i.split('/')\n",
    "                    if video_name in video_dict.keys():\n",
    "                        video_dict[video_name].append(i)\n",
    "                    else:\n",
    "                        video_dict[video_name] = [i]\n",
    "\n",
    "        all_video_names = np.unique(q)\n",
    "        self.valid_video_names = []\n",
    "        self.video_list = []\n",
    "        self.video_size = []  # (w,h)\n",
    "        self.gt_annotations = []\n",
    "        self.non_gt_human_nums = 0\n",
    "        self.non_heatmap_nums = 0\n",
    "        self.non_person_video = 0\n",
    "        self.one_frame_video = 0\n",
    "        self.valid_nums = 0\n",
    "        self.invalid_videos = []\n",
    "\n",
    "        '''\n",
    "            filter_nonperson_box_frame = True (default): according to the stanford method, remove the frames without person box both for training and testing\n",
    "            filter_nonperson_box_frame = False: still use the frames without person box, FasterRCNN may find the person\n",
    "            '''\n",
    "        for i in video_dict.keys():\n",
    "            video = []\n",
    "            gt_annotation_video = []\n",
    "            for j in video_dict[i]:\n",
    "                if filter_nonperson_box_frame:\n",
    "                    if person_bbox[j][const.BOUNDING_BOX].shape[0] == 0:\n",
    "                        self.non_gt_human_nums += 1\n",
    "                        continue\n",
    "                    else:\n",
    "                        video.append(j)\n",
    "                        self.valid_nums += 1\n",
    "\n",
    "                gt_annotation_frame = [\n",
    "                    {\n",
    "                        const.PERSON_BOUNDING_BOX: person_bbox[j][const.BOUNDING_BOX],\n",
    "                        const.FRAME: j\n",
    "                    }\n",
    "                ]\n",
    "\n",
    "                # each frame's objects and human\n",
    "                for k in object_bbox[j]:\n",
    "                    if k[const.VISIBLE]:\n",
    "                        assert k[const.BOUNDING_BOX] is not None, 'warning! The object is visible without bbox'\n",
    "                        k[const.CLASS] = self.object_classes.index(k[const.CLASS])\n",
    "                        # from xywh to xyxy\n",
    "                        k[const.BOUNDING_BOX] = np.array([\n",
    "                            k[const.BOUNDING_BOX][0], k[const.BOUNDING_BOX][1],\n",
    "                            k[const.BOUNDING_BOX][0] + k[const.BOUNDING_BOX][2],\n",
    "                            k[const.BOUNDING_BOX][1] + k[const.BOUNDING_BOX][3]\n",
    "                        ])\n",
    "\n",
    "                        k[const.ATTENTION_RELATIONSHIP] = torch.tensor(\n",
    "                            [self.attention_relationships.index(r) for r in k[const.ATTENTION_RELATIONSHIP]],\n",
    "                            dtype=torch.long)\n",
    "                        k[const.SPATIAL_RELATIONSHIP] = torch.tensor(\n",
    "                            [self.spatial_relationships.index(r) for r in k[const.SPATIAL_RELATIONSHIP]],\n",
    "                            dtype=torch.long)\n",
    "                        k[const.CONTACTING_RELATIONSHIP] = torch.tensor(\n",
    "                            [self.contacting_relationships.index(r) for r in k[const.CONTACTING_RELATIONSHIP]],\n",
    "                            dtype=torch.long)\n",
    "                        gt_annotation_frame.append(k)\n",
    "                gt_annotation_video.append(gt_annotation_frame)\n",
    "\n",
    "            if len(video) > 2:\n",
    "                self.video_list.append(video)\n",
    "                self.video_size.append(person_bbox[j][const.BOUNDING_BOX_SIZE])\n",
    "                self.gt_annotations.append(gt_annotation_video)\n",
    "            elif len(video) == 1:\n",
    "                self.one_frame_video += 1\n",
    "            else:\n",
    "                self.non_person_video += 1\n",
    "\n",
    "        print('x' * 60)\n",
    "        if filter_nonperson_box_frame:\n",
    "            print('There are {} videos and {} valid frames'.format(len(self.video_list), self.valid_nums))\n",
    "            print('{} videos are invalid (no person), remove them'.format(self.non_person_video))\n",
    "            print('{} videos are invalid (only one frame), remove them'.format(self.one_frame_video))\n",
    "            print('{} frames have no human bbox in GT, remove them!'.format(self.non_gt_human_nums))\n",
    "        else:\n",
    "            print('There are {} videos and {} valid frames'.format(len(self.video_list), self.valid_nums))\n",
    "            print('{} frames have no human bbox in GT'.format(self.non_gt_human_nums))\n",
    "            print(\n",
    "                'Removed {} of them without joint heatmaps which means FasterRCNN also cannot find the human'.format(\n",
    "                    self.non_heatmap_nums))\n",
    "        print('x' * 60)\n",
    "\n",
    "        self.invalid_video_names = np.setdiff1d(all_video_names, self.valid_video_names, assume_unique=False)\n",
    "\n",
    "    def __getitem__(self, index):\n",
    "        gt_annotation = self.gt_annotations[index]\n",
    "        return gt_annotation\n",
    "\n",
    "    def __len__(self):\n",
    "        return len(self.video_list)"
   ],
   "id": "initial_id",
   "outputs": [],
   "execution_count": 110
  },
  {
   "metadata": {
    "ExecuteTime": {
     "end_time": "2024-05-13T01:40:07.716578Z",
     "start_time": "2024-05-13T01:39:48.698998Z"
    }
   },
   "cell_type": "code",
   "source": [
    "annotations_directory = \"/data/rohith/ag\"\n",
    "train_dataset = AGDataset(phase=const.TRAIN, datasize=const.LARGE, data_path=annotations_directory)\n",
    "\n",
    "ag_train_dataloader = DataLoader(\n",
    "    train_dataset,\n",
    "    shuffle=False,\n",
    "    num_workers=0,\n",
    "    collate_fn=cuda_collate_fn,\n",
    "    pin_memory=False\n",
    ")"
   ],
   "id": "c444e75bf9332603",
   "outputs": [
    {
     "name": "stdout",
     "output_type": "stream",
     "text": [
      "-------loading annotations---------slowly-----------\n",
      "--------------------finish!-------------------------\n",
      "xxxxxxxxxxxxxxxxxxxxxxxxxxxxxxxxxxxxxxxxxxxxxxxxxxxxxxxxxxxx\n",
      "There are 7584 videos and 177330 valid frames\n",
      "144 videos are invalid (no person), remove them\n",
      "49 videos are invalid (only one frame), remove them\n",
      "21643 frames have no human bbox in GT, remove them!\n",
      "xxxxxxxxxxxxxxxxxxxxxxxxxxxxxxxxxxxxxxxxxxxxxxxxxxxxxxxxxxxx\n"
     ]
    }
   ],
   "execution_count": 111
  },
  {
   "metadata": {
    "ExecuteTime": {
     "end_time": "2024-05-13T01:40:15.588392Z",
     "start_time": "2024-05-13T01:40:15.576639Z"
    }
   },
   "cell_type": "code",
   "source": [
    "class Video:\n",
    "\n",
    "    def __init__(self, video_id):\n",
    "        self.video_id = video_id\n",
    "        self.object_frame_presence_dict = {}\n",
    "        self.frame_wise_change_statistics = {}\n",
    "        self.total_num_frames = None\n",
    "        self.object_total_frames = {}\n",
    "\n",
    "    def add_object_frame_presence(self, object_id, frame_number):\n",
    "        if object_id not in self.object_frame_presence_dict:\n",
    "            self.object_frame_presence_dict[object_id] = []\n",
    "        self.object_frame_presence_dict[object_id].append(frame_number)\n",
    "\n",
    "    def preprocess_from_gt_annotations(self, gt_annotations):\n",
    "        # print(f\"Preprocessing video {self.video_id} using gt_annotations of length: {len(gt_annotations)}\")\n",
    "        total_num_frames = len(gt_annotations)\n",
    "        self.total_num_frames = total_num_frames\n",
    "        person_id = \"1\"\n",
    "        for frame_gt_annotations in gt_annotations:\n",
    "            frame_number = int(frame_gt_annotations[0][const.FRAME].split('/')[1][:-4])\n",
    "            self.add_object_frame_presence(person_id, frame_number)\n",
    "            \n",
    "            if person_id in self.object_total_frames:\n",
    "                self.object_total_frames[person_id] += 1\n",
    "            else:\n",
    "                self.object_total_frames[person_id] = 1\n",
    "            for object_gt_annotation in frame_gt_annotations[1:]:\n",
    "                object_id = object_gt_annotation[\"class\"]\n",
    "                self.add_object_frame_presence(object_id, frame_number)\n",
    "                \n",
    "                if object_id in self.object_total_frames:\n",
    "                    self.object_total_frames[object_id] += 1\n",
    "                else:\n",
    "                    self.object_total_frames[object_id] = 1             "
   ],
   "id": "ae17d8346a952b07",
   "outputs": [],
   "execution_count": 112
  },
  {
   "metadata": {
    "ExecuteTime": {
     "end_time": "2024-05-11T23:00:22.706317Z",
     "start_time": "2024-05-11T23:00:20.158942Z"
    }
   },
   "cell_type": "code",
   "source": [
    "processed_train_video_list = []\n",
    "for video_gt_annotations in tqdm(ag_train_dataloader):\n",
    "    num_frames_video = len(video_gt_annotations)\n",
    "    video_id = video_gt_annotations[0][0][const.FRAME].split('/')[0]\n",
    "    video = Video(video_id=video_id)\n",
    "    video.preprocess_from_gt_annotations(video_gt_annotations)\n",
    "    processed_train_video_list.append(video)"
   ],
   "id": "990bb0c6870f55ac",
   "outputs": [
    {
     "name": "stderr",
     "output_type": "stream",
     "text": [
      "100%|█████████████████████████████████████████████████████████████████████████████████████████████████████████████████████████████████████████████████████████████████████████████████████████████| 7584/7584 [00:02<00:00, 3061.53it/s]\n"
     ]
    }
   ],
   "execution_count": 97
  },
  {
   "metadata": {},
   "cell_type": "markdown",
   "source": "# COMPLETE DATASET: Observation Ratio of Video Frames: 30%, 50%, 70%, 90%",
   "id": "fa2c662a3001a874"
  },
  {
   "metadata": {},
   "cell_type": "markdown",
   "source": "## TRAIN DATASET",
   "id": "90f0e01af8c9d36f"
  },
  {
   "metadata": {
    "ExecuteTime": {
     "end_time": "2024-05-13T01:41:02.196660Z",
     "start_time": "2024-05-13T01:41:02.188606Z"
    }
   },
   "cell_type": "code",
   "source": "context_fractions = [0.3, 0.5, 0.7, 0.9]",
   "id": "ab5db8ca81524849",
   "outputs": [],
   "execution_count": 113
  },
  {
   "metadata": {
    "ExecuteTime": {
     "end_time": "2024-05-13T01:41:05.178036Z",
     "start_time": "2024-05-13T01:41:05.052861Z"
    }
   },
   "cell_type": "code",
   "source": [
    "def fetch_cf_details(processed_video_list):\n",
    "    cf_total_videos = {}\n",
    "    tf_total_objects = {}\n",
    "    cf_total_objects = {}\n",
    "    cf_disappearing_objects = {}\n",
    "    cf_appearing_objects = {}\n",
    "    cf_re_appearing_objects = {}\n",
    "    \n",
    "    for context_fraction in context_fractions:\n",
    "        cf_total_objects[context_fraction] = 0\n",
    "        cf_disappearing_objects[context_fraction] = 0\n",
    "        cf_appearing_objects[context_fraction] = 0\n",
    "        cf_re_appearing_objects[context_fraction] = 0\n",
    "        cf_total_videos[context_fraction] = 0\n",
    "        tf_total_objects[context_fraction] = 0\n",
    "    \n",
    "        for video in tqdm(processed_video_list):\n",
    "            total_num_frames = video.total_num_frames\n",
    "            cf_num_frames = int(total_num_frames * context_fraction)\n",
    "    \n",
    "            person_id = \"1\"\n",
    "            tf_frame_number_list = video.object_frame_presence_dict[person_id]\n",
    "            person_cf_num_frame_list = tf_frame_number_list[:cf_num_frames]\n",
    "            person_ff_frame_list = tf_frame_number_list[cf_num_frames:]\n",
    "    \n",
    "            if len(person_cf_num_frame_list) == 0:\n",
    "                continue\n",
    "    \n",
    "            cf_total_videos[context_fraction] += 1\n",
    "    \n",
    "            assert len(person_cf_num_frame_list) > 0, f\"Found person context frames number list {len(person_cf_num_frame_list)}\"\n",
    "            lcf = person_cf_num_frame_list[-1]\n",
    "    \n",
    "            # Objects in last context frame of the context fraction\n",
    "            lcf_obj_set = set()\n",
    "            app_obj_set = set()\n",
    "            reapp_obj_set = set()\n",
    "            tf_obj_id_list = list(video.object_frame_presence_dict.keys())\n",
    "            tf_obj_id_list.remove(person_id)\n",
    "            \n",
    "            tf_total_objects[context_fraction] += len(tf_obj_id_list)\n",
    "            for obj_id in tf_obj_id_list:\n",
    "                obj_tf_frame_list = video.object_frame_presence_dict[obj_id]\n",
    "                if lcf in obj_tf_frame_list:\n",
    "                    lcf_obj_set.add(obj_id)\n",
    "                elif lcf < obj_tf_frame_list[0]:\n",
    "                    app_obj_set.add(obj_id)\n",
    "                elif obj_tf_frame_list[0] < lcf < obj_tf_frame_list[-1]:\n",
    "                    reapp_obj_set.add(obj_id)\n",
    "    \n",
    "            # Update appearing objects\n",
    "            cf_appearing_objects[context_fraction] += len(app_obj_set)\n",
    "            # Update re-appearing objects\n",
    "            cf_re_appearing_objects[context_fraction] += len(reapp_obj_set)\n",
    "    \n",
    "            for obj_id in lcf_obj_set:\n",
    "                cf_total_objects[context_fraction] += 1\n",
    "                # Update future frames disappearance list\n",
    "                obj_tf_num_frame_list = video.object_frame_presence_dict[obj_id]\n",
    "                obj_ff_frame_list = list(np.array(obj_tf_num_frame_list)[np.array(obj_tf_num_frame_list) >= lcf])\n",
    "                if len(obj_ff_frame_list) < 0.9*len(person_ff_frame_list):\n",
    "                    cf_disappearing_objects[context_fraction] += 1\n",
    "    return cf_total_videos, cf_total_objects, cf_disappearing_objects, cf_appearing_objects, cf_re_appearing_objects, tf_total_objects"
   ],
   "id": "3170199a452f3354",
   "outputs": [],
   "execution_count": 114
  },
  {
   "metadata": {
    "ExecuteTime": {
     "end_time": "2024-05-13T01:41:09.640484Z",
     "start_time": "2024-05-13T01:41:08.809223Z"
    }
   },
   "cell_type": "code",
   "source": [
    "cf_train_total_videos, cf_train_total_objects, cf_train_disappearing_objects, cf_train_appearing_objects, cf_train_re_appearing_objects, tf_train_total_objects = fetch_cf_details(processed_train_video_list)\n",
    "\n",
    "print(f\"Total Videos: {cf_train_total_videos}\")\n",
    "print(f\"Total Objects in last context frame: {cf_train_total_objects}\")\n",
    "print(f\"Total disappearing objects: {cf_train_disappearing_objects}\")\n",
    "print(f\"Total appearing objects: {cf_train_appearing_objects}\")\n",
    "print(f\"Total re-appearing objects: {cf_train_re_appearing_objects}\")\n",
    "print(f\"Total Objects: {tf_train_total_objects}\")"
   ],
   "id": "69f7a891168802de",
   "outputs": [
    {
     "name": "stderr",
     "output_type": "stream",
     "text": [
      "100%|████████████████████████████████████████████████████████████████████████████████████████████████████████████████████████████████████████████████████████████████████████████████████████████| 7584/7584 [00:00<00:00, 30170.93it/s]\n",
      "100%|████████████████████████████████████████████████████████████████████████████████████████████████████████████████████████████████████████████████████████████████████████████████████████████| 7584/7584 [00:00<00:00, 37977.08it/s]\n",
      "100%|████████████████████████████████████████████████████████████████████████████████████████████████████████████████████████████████████████████████████████████████████████████████████████████| 7584/7584 [00:00<00:00, 39957.44it/s]\n",
      "100%|████████████████████████████████████████████████████████████████████████████████████████████████████████████████████████████████████████████████████████████████████████████████████████████| 7584/7584 [00:00<00:00, 45004.40it/s]"
     ]
    },
    {
     "name": "stdout",
     "output_type": "stream",
     "text": [
      "Total Videos: {0.3: 7509, 0.5: 7584, 0.7: 7584, 0.9: 7584}\n",
      "Total Objects in last context frame: {0.3: 15074, 0.5: 15910, 0.7: 15582, 0.9: 14194}\n",
      "Total disappearing objects: {0.3: 7712, 0.5: 6719, 0.7: 4771, 0.9: 1585}\n",
      "Total appearing objects: {0.3: 7295, 0.5: 4108, 0.7: 1839, 0.9: 326}\n",
      "Total re-appearing objects: {0.3: 1075, 0.5: 1419, 0.7: 1335, 0.9: 760}\n",
      "Total Objects: {0.3: 24474, 0.5: 24604, 0.7: 24604, 0.9: 24604}\n"
     ]
    },
    {
     "name": "stderr",
     "output_type": "stream",
     "text": [
      "\n"
     ]
    }
   ],
   "execution_count": 115
  },
  {
   "metadata": {
    "ExecuteTime": {
     "end_time": "2024-05-13T01:42:34.992669Z",
     "start_time": "2024-05-13T01:42:31.919369Z"
    }
   },
   "cell_type": "code",
   "source": [
    "import matplotlib.pyplot as plt\n",
    "def plot_object_changes(cf_total_objects, cf_disappearing_objects, cf_appearing_objects, cf_re_appearing_objects, tf_total_objects, title_name=\"Object Changes\"):    \n",
    "    # Probabilities of objects disappearing, appearing and re-appearing\n",
    "    p_disappearing_objects = {}\n",
    "    p_appearing_objects = {}\n",
    "    p_re_appearing_objects = {}\n",
    "    \n",
    "    for context_fraction in context_fractions:\n",
    "        p_disappearing_objects[context_fraction] = cf_disappearing_objects[context_fraction] / cf_total_objects[context_fraction]\n",
    "        p_appearing_objects[context_fraction] = cf_appearing_objects[context_fraction] / tf_total_objects[context_fraction]\n",
    "        p_re_appearing_objects[context_fraction] = cf_re_appearing_objects[context_fraction] / tf_total_objects[context_fraction]\n",
    "    \n",
    "    barWidth = 0.25\n",
    "    bars1 = [p_disappearing_objects[context_fraction] for context_fraction in context_fractions]\n",
    "    bars2 = [p_appearing_objects[context_fraction] for context_fraction in context_fractions]\n",
    "    bars3 = [p_re_appearing_objects[context_fraction] for context_fraction in context_fractions]\n",
    "    \n",
    "    r1 = np.arange(len(bars1))\n",
    "    r2 = [x + barWidth for x in r1]\n",
    "    r3 = [x + barWidth for x in r2]\n",
    "    \n",
    "    plt.bar(r1, bars1, color='b', width=barWidth, edgecolor='grey', label='Disappearing Objects')\n",
    "    plt.bar(r2, bars2, color='r', width=barWidth, edgecolor='grey', label='Appearing Objects')\n",
    "    plt.bar(r3, bars3, color='g', width=barWidth, edgecolor='grey', label='Re-appearing Objects')\n",
    "    \n",
    "    plt.xlabel('Context Fractions', fontweight='bold')\n",
    "    plt.title(f'{title_name}')\n",
    "    plt.xticks([r + barWidth for r in range(len(bars1))], context_fractions)\n",
    "    plt.legend()\n",
    "    plt.show()\n",
    "    \n",
    "plot_object_changes(cf_train_total_objects, cf_train_disappearing_objects, cf_train_appearing_objects, cf_train_re_appearing_objects, tf_train_total_objects, title_name=\"Train Dataset Cumulative\")  "
   ],
   "id": "4c4fad2b92df7752",
   "outputs": [
    {
     "data": {
      "text/plain": [
       "<Figure size 640x480 with 1 Axes>"
      ],
      "image/png": "[encoded data removed]"
     },
     "metadata": {},
     "output_type": "display_data"
    }
   ],
   "execution_count": 116
  },
  {
   "metadata": {},
   "cell_type": "markdown",
   "source": "## TEST DATASET",
   "id": "27f057960ad73e6f"
  },
  {
   "metadata": {
    "ExecuteTime": {
     "end_time": "2024-05-13T01:43:19.257745Z",
     "start_time": "2024-05-13T01:43:04.814670Z"
    }
   },
   "cell_type": "code",
   "source": [
    "annotations_directory = \"/data/rohith/ag\"\n",
    "test_dataset = AGDataset(phase=const.TEST, datasize=const.LARGE, data_path=annotations_directory)\n",
    "\n",
    "ag_test_dataloader = DataLoader(\n",
    "    test_dataset,\n",
    "    shuffle=False,\n",
    "    num_workers=0,\n",
    "    collate_fn=cuda_collate_fn,\n",
    "    pin_memory=False\n",
    ")"
   ],
   "id": "f4bff8645f410fd",
   "outputs": [
    {
     "name": "stdout",
     "output_type": "stream",
     "text": [
      "-------loading annotations---------slowly-----------\n",
      "--------------------finish!-------------------------\n",
      "xxxxxxxxxxxxxxxxxxxxxxxxxxxxxxxxxxxxxxxxxxxxxxxxxxxxxxxxxxxx\n",
      "There are 1750 videos and 56923 valid frames\n",
      "41 videos are invalid (no person), remove them\n",
      "19 videos are invalid (only one frame), remove them\n",
      "8636 frames have no human bbox in GT, remove them!\n",
      "xxxxxxxxxxxxxxxxxxxxxxxxxxxxxxxxxxxxxxxxxxxxxxxxxxxxxxxxxxxx\n"
     ]
    }
   ],
   "execution_count": 117
  },
  {
   "metadata": {
    "ExecuteTime": {
     "end_time": "2024-05-13T01:43:24.586889Z",
     "start_time": "2024-05-13T01:43:23.847169Z"
    }
   },
   "cell_type": "code",
   "source": [
    "processed_test_video_list = []\n",
    "for video_gt_annotations in tqdm(ag_test_dataloader):\n",
    "    num_frames_video = len(video_gt_annotations)\n",
    "    video_id = video_gt_annotations[0][0][const.FRAME].split('/')[0]\n",
    "    video = Video(video_id=video_id)\n",
    "    video.preprocess_from_gt_annotations(video_gt_annotations)\n",
    "    processed_test_video_list.append(video)"
   ],
   "id": "b91342eeeb1948e4",
   "outputs": [
    {
     "name": "stderr",
     "output_type": "stream",
     "text": [
      "100%|█████████████████████████████████████████████████████████████████████████████████████████████████████████████████████████████████████████████████████████████████████████████████████████████| 1750/1750 [00:00<00:00, 2429.04it/s]\n"
     ]
    }
   ],
   "execution_count": 118
  },
  {
   "metadata": {
    "ExecuteTime": {
     "end_time": "2024-05-13T01:43:29.972088Z",
     "start_time": "2024-05-13T01:43:29.541991Z"
    }
   },
   "cell_type": "code",
   "source": [
    "cf_test_total_videos, cf_test_total_objects, cf_test_disappearing_objects, cf_test_appearing_objects, cf_test_re_appearing_objects, tf_test_total_objects = fetch_cf_details(processed_test_video_list)\n",
    "\n",
    "print(f\"Total Videos: {cf_test_total_videos}\")\n",
    "print(f\"Total Objects in last context frame: {cf_test_total_objects}\")\n",
    "print(f\"Total disappearing objects: {cf_test_disappearing_objects}\")\n",
    "print(f\"Total appearing objects: {cf_test_appearing_objects}\")\n",
    "print(f\"Total re-appearing objects: {cf_test_re_appearing_objects}\")\n",
    "print(f\"Total Objects: {tf_test_total_objects}\")\n",
    "\n",
    "plot_object_changes(cf_test_total_objects, cf_test_disappearing_objects, cf_test_appearing_objects, cf_test_re_appearing_objects, tf_test_total_objects, title_name=\"Test Dataset Cumulative\")"
   ],
   "id": "ff959428e92075de",
   "outputs": [
    {
     "name": "stderr",
     "output_type": "stream",
     "text": [
      "100%|████████████████████████████████████████████████████████████████████████████████████████████████████████████████████████████████████████████████████████████████████████████████████████████| 1750/1750 [00:00<00:00, 25002.15it/s]\n",
      "100%|████████████████████████████████████████████████████████████████████████████████████████████████████████████████████████████████████████████████████████████████████████████████████████████| 1750/1750 [00:00<00:00, 28128.76it/s]\n",
      "100%|████████████████████████████████████████████████████████████████████████████████████████████████████████████████████████████████████████████████████████████████████████████████████████████| 1750/1750 [00:00<00:00, 28750.16it/s]\n",
      "100%|████████████████████████████████████████████████████████████████████████████████████████████████████████████████████████████████████████████████████████████████████████████████████████████| 1750/1750 [00:00<00:00, 33311.54it/s]\n"
     ]
    },
    {
     "name": "stdout",
     "output_type": "stream",
     "text": [
      "Total Videos: {0.3: 1740, 0.5: 1750, 0.7: 1750, 0.9: 1750}\n",
      "Total Objects in last context frame: {0.3: 4368, 0.5: 4559, 0.7: 4394, 0.9: 3986}\n",
      "Total disappearing objects: {0.3: 2328, 0.5: 2063, 0.7: 1457, 0.9: 573}\n",
      "Total appearing objects: {0.3: 2084, 0.5: 1189, 0.7: 516, 0.9: 107}\n",
      "Total re-appearing objects: {0.3: 409, 0.5: 512, 0.7: 497, 0.9: 290}\n",
      "Total Objects: {0.3: 7249, 0.5: 7273, 0.7: 7273, 0.9: 7273}\n"
     ]
    },
    {
     "data": {
      "text/plain": [
       "<Figure size 640x480 with 1 Axes>"
      ],
      "image/png": "[encoded data removed]"
     },
     "metadata": {},
     "output_type": "display_data"
    }
   ],
   "execution_count": 119
  },
  {
   "metadata": {},
   "cell_type": "markdown",
   "source": "# PER VIDEO: Observation Ratio of Video Frames: 30%, 50%, 70%, 90%",
   "id": "da270121aaeb37ff"
  },
  {
   "metadata": {},
   "cell_type": "markdown",
   "source": "## TRAIN DATASET",
   "id": "2f35129f933ab460"
  },
  {
   "metadata": {
    "ExecuteTime": {
     "end_time": "2024-05-13T01:44:30.865560Z",
     "start_time": "2024-05-13T01:44:30.837511Z"
    }
   },
   "cell_type": "code",
   "source": [
    "def fetch_per_video_cf_details(processed_video_list):\n",
    "    cf_disappearing_objects = {}\n",
    "    cf_appearing_objects = {}\n",
    "    cf_re_appearing_objects = {}\n",
    "    \n",
    "    for context_fraction in context_fractions:\n",
    "        cf_disappearing_objects[context_fraction] = 0\n",
    "        cf_appearing_objects[context_fraction] = 0\n",
    "        cf_re_appearing_objects[context_fraction] = 0\n",
    "    \n",
    "        for video in tqdm(processed_video_list):\n",
    "            total_num_frames = video.total_num_frames\n",
    "            cf_num_frames = int(total_num_frames * context_fraction)\n",
    "    \n",
    "            person_id = \"1\"\n",
    "            tf_frame_number_list = video.object_frame_presence_dict[person_id]\n",
    "            person_cf_num_frame_list = tf_frame_number_list[:cf_num_frames]\n",
    "            person_ff_frame_list = tf_frame_number_list[cf_num_frames:]\n",
    "    \n",
    "            if len(person_cf_num_frame_list) == 0:\n",
    "                continue\n",
    "    \n",
    "            assert len(person_cf_num_frame_list) > 0, f\"Found person context frames number list {len(person_cf_num_frame_list)}\"\n",
    "            lcf = person_cf_num_frame_list[-1]\n",
    "    \n",
    "            # Objects in last context frame of the context fraction\n",
    "            lcf_obj_set = set()\n",
    "            app_obj_set = set()\n",
    "            reapp_obj_set = set()\n",
    "            tf_obj_id_list = list(video.object_frame_presence_dict.keys())\n",
    "            tf_obj_id_list.remove(person_id)\n",
    "            \n",
    "            for obj_id in tf_obj_id_list:\n",
    "                obj_tf_frame_list = video.object_frame_presence_dict[obj_id]\n",
    "                if lcf in obj_tf_frame_list:\n",
    "                    lcf_obj_set.add(obj_id)\n",
    "                elif lcf < obj_tf_frame_list[0]:\n",
    "                    app_obj_set.add(obj_id)\n",
    "                elif obj_tf_frame_list[0] < lcf < obj_tf_frame_list[-1]:\n",
    "                    reapp_obj_set.add(obj_id)\n",
    "    \n",
    "            # Update appearing objects\n",
    "            cf_appearing_objects[context_fraction] += (len(app_obj_set)/len(tf_obj_id_list))\n",
    "            # Update re-appearing objects\n",
    "            cf_re_appearing_objects[context_fraction] += (len(reapp_obj_set)/len(tf_obj_id_list))\n",
    "            \n",
    "            disapp_obj_set = set()\n",
    "            for obj_id in lcf_obj_set:\n",
    "                # Update future frames disappearance list\n",
    "                obj_tf_num_frame_list = video.object_frame_presence_dict[obj_id]\n",
    "                obj_ff_frame_list = list(np.array(obj_tf_num_frame_list)[np.array(obj_tf_num_frame_list) >= lcf])\n",
    "                if len(obj_ff_frame_list) < 0.9*len(person_ff_frame_list):\n",
    "                    disapp_obj_set.add(obj_id)\n",
    "                    \n",
    "            # Update disappearing objects\n",
    "            cf_disappearing_objects[context_fraction] += (len(disapp_obj_set)/len(lcf_obj_set))                    \n",
    "            \n",
    "    return cf_disappearing_objects, cf_appearing_objects, cf_re_appearing_objects"
   ],
   "id": "5f47319072f468f4",
   "outputs": [],
   "execution_count": 121
  },
  {
   "metadata": {
    "ExecuteTime": {
     "end_time": "2024-05-13T01:44:34.550717Z",
     "start_time": "2024-05-13T01:44:33.637207Z"
    }
   },
   "cell_type": "code",
   "source": [
    "cf_train_per_video_disappearing_objects, cf_train_per_video_appearing_objects, cf_train_per_video_re_appearing_objects = fetch_per_video_cf_details(processed_train_video_list)\n",
    "\n",
    "print(f\"Total disappearing objects: {cf_train_per_video_disappearing_objects}\")\n",
    "print(f\"Total appearing objects: {cf_train_per_video_appearing_objects}\")\n",
    "print(f\"Total re-appearing objects: {cf_train_per_video_re_appearing_objects}\")"
   ],
   "id": "f0e70e5d01f5426f",
   "outputs": [
    {
     "name": "stderr",
     "output_type": "stream",
     "text": [
      "100%|████████████████████████████████████████████████████████████████████████████████████████████████████████████████████████████████████████████████████████████████████████████████████████████| 7584/7584 [00:00<00:00, 30501.51it/s]\n",
      "100%|████████████████████████████████████████████████████████████████████████████████████████████████████████████████████████████████████████████████████████████████████████████████████████████| 7584/7584 [00:00<00:00, 33970.46it/s]\n",
      "100%|████████████████████████████████████████████████████████████████████████████████████████████████████████████████████████████████████████████████████████████████████████████████████████████| 7584/7584 [00:00<00:00, 31754.48it/s]\n",
      "100%|████████████████████████████████████████████████████████████████████████████████████████████████████████████████████████████████████████████████████████████████████████████████████████████| 7584/7584 [00:00<00:00, 43577.01it/s]"
     ]
    },
    {
     "name": "stdout",
     "output_type": "stream",
     "text": [
      "Total disappearing objects: {0.3: 3932.185714285717, 0.5: 3177.0964285714385, 0.7: 2166.657142857139, 0.9: 692.5833333333342}\n",
      "Total appearing objects: {0.3: 2012.741666666662, 0.5: 1119.1087301587386, 0.7: 496.16825396825, 0.9: 85.81984126984132}\n",
      "Total re-appearing objects: {0.3: 295.6845238095231, 0.5: 394.12499999999795, 0.7: 376.37698412698217, 0.9: 213.82182539682523}\n"
     ]
    },
    {
     "name": "stderr",
     "output_type": "stream",
     "text": [
      "\n"
     ]
    }
   ],
   "execution_count": 122
  },
  {
   "metadata": {
    "ExecuteTime": {
     "end_time": "2024-05-13T01:45:03.086183Z",
     "start_time": "2024-05-13T01:45:02.900723Z"
    }
   },
   "cell_type": "code",
   "source": [
    "import matplotlib.pyplot as plt\n",
    "def plot_object_changes_per_video(cf_disappearing_objects, cf_appearing_objects, cf_re_appearing_objects, total_videos, title_name=\"Object Changes\"):    \n",
    "    # Probabilities of objects disappearing, appearing and re-appearing\n",
    "    p_disappearing_objects = {}\n",
    "    p_appearing_objects = {}\n",
    "    p_re_appearing_objects = {}\n",
    "    \n",
    "    for context_fraction in context_fractions:\n",
    "        p_disappearing_objects[context_fraction] = cf_disappearing_objects[context_fraction] / total_videos\n",
    "        p_appearing_objects[context_fraction] = cf_appearing_objects[context_fraction] / total_videos\n",
    "        p_re_appearing_objects[context_fraction] = cf_re_appearing_objects[context_fraction] / total_videos\n",
    "    \n",
    "    barWidth = 0.25\n",
    "    bars1 = [p_disappearing_objects[context_fraction] for context_fraction in context_fractions]\n",
    "    bars2 = [p_appearing_objects[context_fraction] for context_fraction in context_fractions]\n",
    "    bars3 = [p_re_appearing_objects[context_fraction] for context_fraction in context_fractions]\n",
    "    \n",
    "    r1 = np.arange(len(bars1))\n",
    "    r2 = [x + barWidth for x in r1]\n",
    "    r3 = [x + barWidth for x in r2]\n",
    "    \n",
    "    plt.bar(r1, bars1, color='b', width=barWidth, edgecolor='grey', label='Disappearing Objects')\n",
    "    plt.bar(r2, bars2, color='r', width=barWidth, edgecolor='grey', label='Appearing Objects')\n",
    "    plt.bar(r3, bars3, color='g', width=barWidth, edgecolor='grey', label='Re-appearing Objects')\n",
    "    \n",
    "    plt.xlabel('Context Fractions', fontweight='bold')\n",
    "    plt.title(f'{title_name}')\n",
    "    plt.xticks([r + barWidth for r in range(len(bars1))], context_fractions)\n",
    "    plt.legend()\n",
    "    plt.show()\n",
    "    \n",
    "plot_object_changes_per_video(cf_train_per_video_disappearing_objects, cf_train_per_video_appearing_objects, cf_train_per_video_re_appearing_objects, len(processed_train_video_list),  title_name=\"Train Dataset Per Video\")  "
   ],
   "id": "865073673397e80e",
   "outputs": [
    {
     "data": {
      "text/plain": [
       "<Figure size 640x480 with 1 Axes>"
      ],
      "image/png": "[encoded data removed]"
     },
     "metadata": {},
     "output_type": "display_data"
    }
   ],
   "execution_count": 123
  },
  {
   "metadata": {},
   "cell_type": "markdown",
   "source": "## TEST DATASET",
   "id": "3d89178dac6e60be"
  },
  {
   "metadata": {
    "ExecuteTime": {
     "end_time": "2024-05-13T01:45:09.608743Z",
     "start_time": "2024-05-13T01:45:09.156221Z"
    }
   },
   "cell_type": "code",
   "source": [
    "cf_test_per_video_disappearing_objects, cf_test_per_video_appearing_objects, cf_test_per_video_re_appearing_objects = fetch_per_video_cf_details(processed_test_video_list)\n",
    "\n",
    "print(f\"Total disappearing objects: {cf_test_per_video_disappearing_objects}\")\n",
    "print(f\"Total appearing objects: {cf_test_per_video_appearing_objects}\")\n",
    "print(f\"Total re-appearing objects: {cf_test_per_video_re_appearing_objects}\")\n",
    "\n",
    "\n",
    "plot_object_changes_per_video(cf_test_per_video_disappearing_objects, cf_test_per_video_appearing_objects, cf_test_per_video_re_appearing_objects, len(processed_test_video_list),  title_name=\"Test Dataset Per Video\")  "
   ],
   "id": "dc8905f5d9343fbb",
   "outputs": [
    {
     "name": "stderr",
     "output_type": "stream",
     "text": [
      "100%|████████████████████████████████████████████████████████████████████████████████████████████████████████████████████████████████████████████████████████████████████████████████████████████| 1750/1750 [00:00<00:00, 21194.85it/s]\n",
      "100%|████████████████████████████████████████████████████████████████████████████████████████████████████████████████████████████████████████████████████████████████████████████████████████████| 1750/1750 [00:00<00:00, 24438.26it/s]\n",
      "100%|████████████████████████████████████████████████████████████████████████████████████████████████████████████████████████████████████████████████████████████████████████████████████████████| 1750/1750 [00:00<00:00, 28189.15it/s]\n",
      "100%|████████████████████████████████████████████████████████████████████████████████████████████████████████████████████████████████████████████████████████████████████████████████████████████| 1750/1750 [00:00<00:00, 34365.86it/s]\n"
     ]
    },
    {
     "name": "stdout",
     "output_type": "stream",
     "text": [
      "Total disappearing objects: {0.3: 947.8630952380953, 0.5: 795.2928571428572, 0.7: 557.9642857142858, 0.9: 224.07500000000005}\n",
      "Total appearing objects: {0.3: 463.38185425685276, 0.5: 257.3869408369404, 0.7: 112.09289321789339, 0.9: 22.98373015873014}\n",
      "Total re-appearing objects: {0.3: 86.75447330447341, 0.5: 110.17976190476206, 0.7: 110.15162337662352, 0.9: 63.21904761904769}\n"
     ]
    },
    {
     "data": {
      "text/plain": [
       "<Figure size 640x480 with 1 Axes>"
      ],
      "image/png": "[encoded data removed]"
     },
     "metadata": {},
     "output_type": "display_data"
    }
   ],
   "execution_count": 124
  }
 ],
 "metadata": {
  "kernelspec": {
   "display_name": "Python 3",
   "language": "python",
   "name": "python3"
  },
  "language_info": {
   "codemirror_mode": {
    "name": "ipython",
    "version": 2
   },
   "file_extension": ".py",
   "mimetype": "text/x-python",
   "name": "python",
   "nbconvert_exporter": "python",
   "pygments_lexer": "ipython2",
   "version": "2.7.6"
  }
 },
 "nbformat": 4,
 "nbformat_minor": 5
}
